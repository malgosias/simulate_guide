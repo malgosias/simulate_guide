{
 "cells": [
  {
   "cell_type": "code",
   "execution_count": 1,
   "metadata": {
    "collapsed": true
   },
   "outputs": [],
   "source": [
    "%matplotlib inline\n",
    "import numpy as np\n",
    "import matplotlib.pyplot as plt\n",
    "from astropy.table import Table\n",
    "from Ska.engarchive import fetch_sci as fetch\n",
    "from mica.archive.aca_l0 import get_l0_images\n",
    "from kadi import events\n",
    "from scipy import optimize\n",
    "import cPickle\n",
    "import os.path"
   ]
  },
  {
   "cell_type": "code",
   "execution_count": 2,
   "metadata": {
    "collapsed": true
   },
   "outputs": [],
   "source": [
    "def gaussian(height, coff, roff, sigma):\n",
    "    \"\"\"Returns a gaussian function with the given parameters\"\"\"\n",
    "    sigma = float(sigma)\n",
    "    return lambda x, y: height * np.exp(-(((c - coff) / sigma)**2 + ((r - roff) / sigma)**2) / 2)\n",
    "\n",
    "\n",
    "def fitgaussian(data, params):\n",
    "    errorfunction = lambda p: np.ravel(gaussian(*p)(*np.indices(data.shape)) - data)\n",
    "    p, success = optimize.leastsq(errorfunction, params)\n",
    "    return p    "
   ]
  },
  {
   "cell_type": "code",
   "execution_count": 3,
   "metadata": {
    "collapsed": true
   },
   "outputs": [],
   "source": [
    "p0 = [1000., 0., 0., 2.]"
   ]
  },
  {
   "cell_type": "code",
   "execution_count": 4,
   "metadata": {
    "collapsed": true
   },
   "outputs": [],
   "source": [
    "dwells = events.dwells.filter('2017:100', '2017:101')"
   ]
  },
  {
   "cell_type": "code",
   "execution_count": 5,
   "metadata": {
    "collapsed": false
   },
   "outputs": [],
   "source": [
    "fwhm_file = 'fwhm.pickle'\n",
    "if not os.path.isfile(fwhm_file):\n",
    "    rows = []\n",
    "    for d in dwells:    \n",
    "        for slot in [3, 4, 5 ,6 , 7]:\n",
    "            imgs = get_l0_images(d.start, d.stop, imgsize=[6, 8], slot=slot)\n",
    "            if len(imgs) > 1000:\n",
    "                mag = fetch.MSID('aoacmag{}'.format(slot), d.start, d.stop)\n",
    "                row = {'mag': np.mean(mag.vals), 'slot': slot, 'obsid': d.get_obsid()}\n",
    "                fwhms = []\n",
    "                for img in imgs:\n",
    "                    sz = np.int(img.IMGSIZE / 2)\n",
    "                    r, c = np.mgrid[-sz:sz, -sz:sz] - 0.5\n",
    "                    data = img - img.BGDAVG\n",
    "                    if img.IMGSIZE == 6:\n",
    "                        data[[0, 0, 5, 5], [0, 5, 0, 5]]\n",
    "                    params = fitgaussian(data, p0)\n",
    "                    fwhm = params[-1] * 2. * np.sqrt(2. * np.log(2.))\n",
    "                    fwhms.append(fwhm)\n",
    "                    row['fwhm_dist'] = fwhms\n",
    "                    row['median'] = np.median(fwhms)\n",
    "                    row['imgsize'] = img.IMGSIZE\n",
    "                rows.append(row)\n",
    "    tab = Table(rows)\n",
    "    cPickle.dump(tab, open(fwhm_file, 'w'))\n",
    "else:\n",
    "    tab = cPickle.load(open('fwhm.pickle'))"
   ]
  },
  {
   "cell_type": "code",
   "execution_count": 6,
   "metadata": {
    "collapsed": false
   },
   "outputs": [
    {
     "data": {
      "text/plain": [
       "['fwhm_dist', 'imgsize', 'mag', 'median', 'obsid', 'slot']"
      ]
     },
     "execution_count": 6,
     "metadata": {},
     "output_type": "execute_result"
    }
   ],
   "source": [
    "tab.colnames"
   ]
  },
  {
   "cell_type": "code",
   "execution_count": 7,
   "metadata": {
    "collapsed": false
   },
   "outputs": [
    {
     "name": "stdout",
     "output_type": "stream",
     "text": [
      "obsid   mag       median    slot imgsize\n",
      "----- ------- ------------- ---- -------\n",
      "50157 8.05064 2.78208461582    3       8\n",
      "50157 7.81329 2.76639134175    4       8\n",
      "50157 8.59461 2.81804594102    5       8\n",
      "50157  8.2559 2.81776714856    6       8\n",
      "50157 9.08853 2.84820736552    7       8\n",
      "50156  9.0226 2.82789348764    3       8\n",
      "50156 6.87497 2.70584758674    4       8\n",
      "50156 8.27831 2.74930957459    5       8\n",
      "50156 8.86835 2.87040113489    6       8\n",
      "50156 8.58273 2.81657338858    7       8\n",
      "19921 7.76662 2.74489011003    3       6\n",
      "19921 8.25272 2.74519937506    4       6\n",
      "19921 8.34421 2.78174621713    5       6\n",
      "19921 8.33393 2.78401212184    6       6\n",
      "19921 6.94087 2.66867231853    7       6\n",
      "20041 6.97204 2.68178851307    3       6\n",
      "20041 7.98396 2.74247748518    4       6\n",
      "20041 7.47551 2.67345448528    5       6\n",
      "20041 8.15111 2.74544228096    6       6\n",
      "20041 7.89927 2.82071716261    7       6\n"
     ]
    }
   ],
   "source": [
    "print(tab['obsid', 'mag', 'median', 'slot', 'imgsize'])"
   ]
  },
  {
   "cell_type": "code",
   "execution_count": 8,
   "metadata": {
    "collapsed": false
   },
   "outputs": [
    {
     "data": {
      "image/png": "[encoded data removed]",
      "text/plain": [
       "<matplotlib.figure.Figure at 0x7f4cb02c8850>"
      ]
     },
     "metadata": {},
     "output_type": "display_data"
    }
   ],
   "source": [
    "plt.hist(tab['fwhm_dist'][5], 20, color='teal')\n",
    "plt.xlabel('FWHM (pixels)')\n",
    "plt.vlines([tab['median'][5]], 0, 250, lw=3)\n",
    "plt.ylabel('Number');"
   ]
  },
  {
   "cell_type": "code",
   "execution_count": 9,
   "metadata": {
    "collapsed": false
   },
   "outputs": [
    {
     "data": {
      "text/plain": [
       "2.7740687794403072"
      ]
     },
     "execution_count": 9,
     "metadata": {},
     "output_type": "execute_result"
    }
   ],
   "source": [
    "np.median(tab['median'])"
   ]
  },
  {
   "cell_type": "code",
   "execution_count": null,
   "metadata": {
    "collapsed": true
   },
   "outputs": [],
   "source": []
  }
 ],
 "metadata": {
  "kernelspec": {
   "display_name": "Python 2",
   "language": "python",
   "name": "python2"
  },
  "language_info": {
   "codemirror_mode": {
    "name": "ipython",
    "version": 2
   },
   "file_extension": ".py",
   "mimetype": "text/x-python",
   "name": "python",
   "nbconvert_exporter": "python",
   "pygments_lexer": "ipython2",
   "version": "2.7.9"
  }
 },
 "nbformat": 4,
 "nbformat_minor": 0
}
