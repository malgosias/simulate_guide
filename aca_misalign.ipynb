{
 "cells": [
  {
   "cell_type": "markdown",
   "metadata": {},
   "source": [
    "## Transformation between ground/obc asp_l1 and on-board telemetry ##"
   ]
  },
  {
   "cell_type": "code",
   "execution_count": 1,
   "metadata": {
    "collapsed": true
   },
   "outputs": [],
   "source": [
    "import numpy as np\n",
    "from Quaternion import Quat\n",
    "from mica.archive import asp_l1\n",
    "from astropy.table import Table\n",
    "from kadi import events\n",
    "from Ska.engarchive import fetch as fetch"
   ]
  },
  {
   "cell_type": "markdown",
   "metadata": {},
   "source": [
    "* <code>aca_misalign</code>"
   ]
  },
  {
   "cell_type": "code",
   "execution_count": 2,
   "metadata": {
    "collapsed": false
   },
   "outputs": [],
   "source": [
    "calfiles = ['/data/aca/archive/asp1/08/08008_v03/pcadf284100553N003_acal1.fits.gz']\n",
    "acal1 = Table.read(calfiles[-1])\n",
    "aca_misalign = acal1['aca_misalign'][0]"
   ]
  },
  {
   "cell_type": "markdown",
   "metadata": {},
   "source": [
    "* OBC <code>asp_l1</code> aspect solution"
   ]
  },
  {
   "cell_type": "code",
   "execution_count": 3,
   "metadata": {
    "collapsed": true
   },
   "outputs": [],
   "source": [
    "# Get OBC solution, convert using aca_misalign to obtain quat\n",
    "#arc5gl = Ska.arc5gl.Arc5gl()\n",
    "#arc5gl.sendline('obsid=8008')\n",
    "#arc5gl.sendline('version=last')\n",
    "#arc5gl.sendline('get asp1{obcsol}')\n",
    "#del arc5gl"
   ]
  },
  {
   "cell_type": "code",
   "execution_count": 4,
   "metadata": {
    "collapsed": true
   },
   "outputs": [],
   "source": [
    "obc_sol = Table.read('pcadf284099196N002_osol1.fits.gz')"
   ]
  },
  {
   "cell_type": "markdown",
   "metadata": {},
   "source": [
    "* Grnd <code>asp_l1</code> aspect solution"
   ]
  },
  {
   "cell_type": "code",
   "execution_count": 5,
   "metadata": {
    "collapsed": false
   },
   "outputs": [
    {
     "name": "stdout",
     "output_type": "stream",
     "text": [
      "['/data/aca/archive/asp1/08/08008_v03/pcadf284100553N003_asol1.fits.gz']\n"
     ]
    }
   ],
   "source": [
    "solfiles = asp_l1.get_files(obsid=8008, revision='last', content='ASPSOL')\n",
    "print(solfiles)\n",
    "grnd_sol = Table.read(solfiles[-1])"
   ]
  },
  {
   "cell_type": "markdown",
   "metadata": {},
   "source": [
    "* Match times"
   ]
  },
  {
   "cell_type": "code",
   "execution_count": 6,
   "metadata": {
    "collapsed": false
   },
   "outputs": [
    {
     "data": {
      "text/plain": [
       "284100553.48501438"
      ]
     },
     "execution_count": 6,
     "metadata": {},
     "output_type": "execute_result"
    }
   ],
   "source": [
    "# on-board telemetry\n",
    "obsid = 8008\n",
    "d = events.dwells.filter(obsid=obsid)[0]\n",
    "atts = fetch.MSIDset(['aoattqt*'], d.start, d.stop)\n",
    "quat = Quat([atts['aoattqt{}'.format(i + 1)].vals[0] for i in range(4)])\n",
    "atts['aoattqt1'].times[0]"
   ]
  },
  {
   "cell_type": "code",
   "execution_count": 7,
   "metadata": {
    "collapsed": false
   },
   "outputs": [
    {
     "data": {
      "text/plain": [
       "284100553.74126387"
      ]
     },
     "execution_count": 7,
     "metadata": {},
     "output_type": "execute_result"
    }
   ],
   "source": [
    "grnd_sol['time'][0]"
   ]
  },
  {
   "cell_type": "code",
   "execution_count": 8,
   "metadata": {
    "collapsed": false
   },
   "outputs": [
    {
     "data": {
      "text/plain": [
       "284100553.48501384"
      ]
     },
     "execution_count": 8,
     "metadata": {},
     "output_type": "execute_result"
    }
   ],
   "source": [
    "obc_sol['time'][1324]"
   ]
  },
  {
   "cell_type": "markdown",
   "metadata": {},
   "source": [
    "* Quaternions"
   ]
  },
  {
   "cell_type": "code",
   "execution_count": 11,
   "metadata": {
    "collapsed": false
   },
   "outputs": [
    {
     "data": {
      "text/plain": [
       "<Quat q1=0.14960202 q2=0.49089972 q3=0.83147544 q4=0.21280339>"
      ]
     },
     "execution_count": 11,
     "metadata": {},
     "output_type": "execute_result"
    }
   ],
   "source": [
    "quat"
   ]
  },
  {
   "cell_type": "code",
   "execution_count": 12,
   "metadata": {
    "collapsed": false
   },
   "outputs": [
    {
     "data": {
      "text/plain": [
       "<Quat q1=0.15019172 q2=0.49235635 q3=0.83060600 q4=0.21241785>"
      ]
     },
     "execution_count": 12,
     "metadata": {},
     "output_type": "execute_result"
    }
   ],
   "source": [
    "Quat(grnd_sol['q_att'][0])"
   ]
  },
  {
   "cell_type": "code",
   "execution_count": 13,
   "metadata": {
    "collapsed": false
   },
   "outputs": [
    {
     "data": {
      "text/plain": [
       "<Quat q1=0.15009502 q2=0.49197906 q3=0.83082895 q4=0.21248847>"
      ]
     },
     "execution_count": 13,
     "metadata": {},
     "output_type": "execute_result"
    }
   ],
   "source": [
    "Quat(obc_sol['q_att'][1324])"
   ]
  },
  {
   "cell_type": "markdown",
   "metadata": {},
   "source": [
    "* Transformation"
   ]
  },
  {
   "cell_type": "code",
   "execution_count": 14,
   "metadata": {
    "collapsed": false
   },
   "outputs": [
    {
     "data": {
      "text/plain": [
       "<Quat q1=0.14960202 q2=0.49089972 q3=0.83147544 q4=0.21280339>"
      ]
     },
     "execution_count": 14,
     "metadata": {},
     "output_type": "execute_result"
    }
   ],
   "source": [
    "# We want to match the on-board quaternion\n",
    "quat"
   ]
  },
  {
   "cell_type": "code",
   "execution_count": 15,
   "metadata": {
    "collapsed": true
   },
   "outputs": [],
   "source": [
    "Ts_obc = Quat(obc_sol['q_att'][1324]).transform\n",
    "Ts_grnd = Quat(grnd_sol['q_att'][0]).transform"
   ]
  },
  {
   "cell_type": "code",
   "execution_count": 16,
   "metadata": {
    "collapsed": false
   },
   "outputs": [],
   "source": [
    "q_obc_trans = Quat(np.dot(aca_misalign, Ts_obc.T)).inv()\n",
    "q_grnd_trans = Quat(np.dot(aca_misalign, Ts_grnd.T)).inv()"
   ]
  },
  {
   "cell_type": "code",
   "execution_count": 17,
   "metadata": {
    "collapsed": false
   },
   "outputs": [
    {
     "data": {
      "text/plain": [
       "(<Quat q1=0.14950525 q2=0.49052201 q3=0.83169768 q4=0.21287392>,\n",
       " <Quat q1=0.14960202 q2=0.49089972 q3=0.83147544 q4=0.21280339>)"
      ]
     },
     "execution_count": 17,
     "metadata": {},
     "output_type": "execute_result"
    }
   ],
   "source": [
    "q_obc_trans, q_grnd_trans"
   ]
  },
  {
   "cell_type": "code",
   "execution_count": null,
   "metadata": {
    "collapsed": true
   },
   "outputs": [],
   "source": []
  }
 ],
 "metadata": {
  "kernelspec": {
   "display_name": "Python 2",
   "language": "python",
   "name": "python2"
  },
  "language_info": {
   "codemirror_mode": {
    "name": "ipython",
    "version": 2
   },
   "file_extension": ".py",
   "mimetype": "text/x-python",
   "name": "python",
   "nbconvert_exporter": "python",
   "pygments_lexer": "ipython2",
   "version": "2.7.9"
  }
 },
 "nbformat": 4,
 "nbformat_minor": 0
}
